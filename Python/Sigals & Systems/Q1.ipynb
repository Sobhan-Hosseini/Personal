{
  "cells": [
    {
      "cell_type": "code",
      "execution_count": 1,
      "metadata": {
        "id": "HFX1xcKItcy0"
      },
      "outputs": [],
      "source": [
        "\"\"\"\n",
        "  Signals & Systems Q1\n",
        "  Author: Seyed Sobhan Hosseini\n",
        "  Date: Sunday, June 25, 2023, 12:59:09 PM\n",
        "\"\"\"\n",
        "\n",
        "import numpy as np\n",
        "import matplotlib.pyplot as plt\n"
      ]
    },
    {
      "cell_type": "markdown",
      "metadata": {
        "id": "WB3NqBbryzMD"
      },
      "source": [
        "generating signals"
      ]
    },
    {
      "cell_type": "code",
      "execution_count": 2,
      "metadata": {
        "id": "zNCB-qamtjhL"
      },
      "outputs": [],
      "source": [
        "input=np.linspace(-20,20,41)\n",
        "a = np.cos(input*(np.pi/8))\n",
        "b = np.cos(input*(5*np.pi/8))\n",
        "c = np.cos(input*(np.pi/9))"
      ]
    },
    {
      "cell_type": "markdown",
      "metadata": {
        "id": "fOufsbXfyvDf"
      },
      "source": [
        "poltting signals "
      ]
    },
    {
      "cell_type": "code",
      "execution_count": null,
      "metadata": {
        "colab": {
          "base_uri": "https://localhost:8080/",
          "height": 298
        },
        "id": "JZ-mVQwSwfpK",
        "outputId": "ec84b520-cf88-459c-9a9c-80c37ea5afbd"
      },
      "outputs": [
        {
          "data": {
            "image/png": "[encoded data removed]",
            "text/plain": [
              "<Figure size 432x288 with 3 Axes>"
            ]
          },
          "metadata": {
            "needs_background": "light"
          },
          "output_type": "display_data"
        }
      ],
      "source": [
        "plt.subplot(311)\n",
        "plt.stem(input,a)\n",
        "plt.title('out a')\n",
        "plt.subplot(312)\n",
        "plt.stem(input,b)\n",
        "plt.title('out b')\n",
        "plt.subplot(313)\n",
        "plt.stem(input,c)\n",
        "plt.title('out c')\n",
        "plt.show()"
      ]
    },
    {
      "cell_type": "code",
      "execution_count": null,
      "metadata": {
        "id": "m45Odp4ewkbC"
      },
      "outputs": [],
      "source": []
    }
  ],
  "metadata": {
    "colab": {
      "provenance": []
    },
    "kernelspec": {
      "display_name": "Python 3",
      "name": "python3"
    },
    "language_info": {
      "codemirror_mode": {
        "name": "ipython",
        "version": 3
      },
      "file_extension": ".py",
      "mimetype": "text/x-python",
      "name": "python",
      "nbconvert_exporter": "python",
      "pygments_lexer": "ipython3",
      "version": "3.10.6"
    }
  },
  "nbformat": 4,
  "nbformat_minor": 0
}
